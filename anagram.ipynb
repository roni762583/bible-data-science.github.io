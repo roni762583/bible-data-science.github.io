{
  "nbformat": 4,
  "nbformat_minor": 0,
  "metadata": {
    "colab": {
      "provenance": [],
      "authorship_tag": "ABX9TyP8/c2E3WoeAjzn4Rdo+9Py",
      "include_colab_link": true
    },
    "kernelspec": {
      "name": "python3",
      "display_name": "Python 3"
    },
    "language_info": {
      "name": "python"
    }
  },
  "cells": [
    {
      "cell_type": "markdown",
      "metadata": {
        "id": "view-in-github",
        "colab_type": "text"
      },
      "source": [
        "<a href=\"https://colab.research.google.com/github/roni762583/bible-data-science.github.io/blob/master/anagram.ipynb\" target=\"_parent\"><img src=\"https://colab.research.google.com/assets/colab-badge.svg\" alt=\"Open In Colab\"/></a>"
      ]
    },
    {
      "cell_type": "code",
      "source": [
        "# Hebrew dictionary dataset\n",
        "'''\n",
        "Description\n",
        "A list of all the words used in the Hebrew Bible as organized by James Strong in his Hebrew and Chaldee Dictionary.\n",
        "'''\n",
        "# https://data.world/bradys/bibledata-hebrewwords/workspace/file?filename=HebrewStrongs\n",
        "\n",
        "import pandas as pd\n",
        "df = pd.read_excel('https://query.data.world/s/ehwv4f6x7ewuboa3d5q6kwerppx4q7?dws=00000')\n",
        "\n",
        "# Define the list of allowed characters to clean dataset from non character characters like punctuation and nikkud\n",
        "allowed_chars = ['א', 'ב', 'ג', 'ד', 'ה', 'ו', 'ז', 'ח', 'ט', 'י', 'כ', 'ל', 'מ', 'נ', 'ס', 'ע', 'פ', 'צ', 'ק', 'ר', 'ש', 'ת', 'ך', 'ם', 'ן', 'ף', 'ץ']\n",
        "# allowed_chars = ['א', 'ב', 'ג', 'ד', 'ה', 'ו', 'ז', 'ח', 'ט', 'י', 'כ', 'ל', 'מ', 'נ', 'ס', 'ע', 'פ', 'צ', 'ק', 'ר', 'ש', 'ת' ]\n",
        "# Remove characters not in the list of allowed characters\n",
        "# output_str = ''.join(filter(lambda x: x in allowed_chars, input_str))\n",
        "\n",
        "# Define the function to remove characters not in the list of allowed characters\n",
        "def remove_chars(input_str):\n",
        "    return ''.join(filter(lambda x: x in allowed_chars, input_str))\n",
        "\n",
        "# def func remove_whitespace\n",
        "def remove_whitespace(input_str):\n",
        "  return input_str.strip().replace(\" \", \"\")\n",
        "\n",
        "\n",
        "def convert_mantzapach(input_str):\n",
        "  mantzapach = ['ך', 'ם', 'ן', 'ף', 'ץ']\n",
        "  #[e for e in mantzapach if e in input_str]\n",
        "  # Using replace() method\n",
        "  input_str = input_str.replace(\"ם\", \"מ\").replace(\"ן\", \"נ\").replace(\"ץ\", \"צ\").replace(\"ף\", \"פ\").replace(\"ך\", \"כ\")\n",
        "  return input_str\n",
        "\n",
        "# Apply the function to the 'word' column and store the result in a new column called 'filtered_word'\n",
        "df['filtered_word'] = df['word'].apply(remove_chars)\n",
        "\n",
        "# Apply func to remove whitespace\n",
        "df['clean_word'] = df['filtered_word'].apply(remove_whitespace) \n",
        "\n",
        "df['mantzapach_free'] = df['clean_word'].apply(convert_mantzapach)\n",
        "# dictionary\n",
        "dictionary = df['mantzapach_free'].tolist()\n",
        "\n",
        "# print(dictionary[-10])"
      ],
      "metadata": {
        "id": "bSKw6iHh-X4H"
      },
      "execution_count": 82,
      "outputs": []
    },
    {
      "cell_type": "code",
      "source": [
        "# Import the required libraries\n",
        "import itertools\n",
        "\n",
        "# Define the function to generate all possible anagrams\n",
        "def generate_anagrams(input_str):\n",
        "    # convert to lowercase\n",
        "    input_str = input_str.lower()\n",
        "    # Generate all possible permutations of the input string using itertools.permutations\n",
        "    perms = itertools.permutations(input_str)\n",
        "    \n",
        "    # Use a set to store unique anagrams\n",
        "    unique_anagrams = set()\n",
        "    \n",
        "    # Loop through all permutations and check if they are valid words\n",
        "    for perm in perms:\n",
        "        # Convert the permutation to a string\n",
        "        word = ''.join(perm)\n",
        "        \n",
        "        # Check if the word is a valid English word\n",
        "        if is_valid_word(word):\n",
        "            # Add the word to the set of unique anagrams\n",
        "            unique_anagrams.add(word)\n",
        "    \n",
        "    # Convert the set of unique anagrams to a list and return it\n",
        "    return list(unique_anagrams)\n",
        "\n",
        "# Define the function to check if a given word is a valid English word\n",
        "def is_valid_word(word):\n",
        "    # TODO: Implement this function to check if the given word is a valid English word\n",
        "    if word in dictionary:\n",
        "      return True  # placeholder for implementation\n",
        "    return False\n",
        "    \n",
        "# Example usage\n",
        "input_str = \"תשבי\"\n",
        "anagrams_list = generate_anagrams(input_str)\n",
        "print(len(anagrams_list),\" anagrams:\")\n",
        "print(anagrams_list)\n"
      ],
      "metadata": {
        "colab": {
          "base_uri": "https://localhost:8080/"
        },
        "id": "mZpwFvTF2El_",
        "outputId": "7dae71f1-cccc-47c7-9d1f-1071da6f3833"
      },
      "execution_count": 75,
      "outputs": [
        {
          "output_type": "stream",
          "name": "stdout",
          "text": [
            "3  anagrams:\n",
            "['תשבי', 'יבשת', 'שבתי']\n"
          ]
        }
      ]
    },
    {
      "cell_type": "code",
      "source": [
        "candidates = []\n",
        "for gram in anagrams_list:\n",
        "  if(len(gram)<7):\n",
        "    print(len(gram))\n",
        "  if gram in dictionary:\n",
        "    candidates.append(gram)\n",
        "\n",
        "print(candidates)"
      ],
      "metadata": {
        "colab": {
          "base_uri": "https://localhost:8080/"
        },
        "id": "bA4zJ2cYAS1j",
        "outputId": "d2df498c-1299-4d7b-8040-30aee337af3c"
      },
      "execution_count": 62,
      "outputs": [
        {
          "output_type": "stream",
          "name": "stdout",
          "text": [
            "[]\n"
          ]
        }
      ]
    }
  ]
}